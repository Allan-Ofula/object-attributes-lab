














# Define Driver Class here with properties for each instance variable

class Driver:
    def __init__(self, first, last, miles_driven, rating):
        self.first = first
        self.last = last
        self.miles_driven = miles_driven
        self.rating = rating

    def greet_passenger(self):
        return f"Hello! I'll be your driver today. My name is {self.first} {self.last}."





# Create an instance with the above 4 attributes and then call the greet_passenger method

driver_instance = Driver("Matthew", "Mitchell", 100, 4.9)
print(driver_instance.greet_passenger())





# Define Passenger Class here with properties for each instance variable

class Passenger:
    def __init__(self, first, last):
        self.first = first
        self.last = last

    def yell_name(self):
        print(f"{self.first.upper()} {self.last.upper()}")





# Create an instance of the passenger class with the first and last attributes. Then call the yell_name method

passenger_instance = Passenger("Ron", "Burgundy")
passenger_instance.yell_name()






